{
  "nbformat": 4,
  "nbformat_minor": 0,
  "metadata": {
    "colab": {
      "provenance": []
    },
    "kernelspec": {
      "name": "python3",
      "display_name": "Python 3"
    },
    "language_info": {
      "name": "python"
    }
  },
  "cells": [
    {
      "cell_type": "code",
      "execution_count": null,
      "metadata": {
        "id": "yrnyLT5S8Oox"
      },
      "outputs": [],
      "source": [
        "# fungsi range \n",
        "x = range(6)\n",
        "x\n",
        "\n",
        "for n in x: #untuk n yang ada dalam variabel x \n",
        "  print (n) #maka kita print untuk seluruh nilai"
      ]
    },
    {
      "cell_type": "markdown",
      "source": [
        "***range(n) : 0 <= x < n*** <br>\n",
        "`misal range(6) artinya 0 <= x < 6, jadi angka yg masuk ke dalam range 0,1,2,3,4,5`\n",
        "\n",
        "Syntax range: range(start, stop, step), default step 1 jika tidak di-define"
      ],
      "metadata": {
        "id": "g3Q5BLTL9Gdx"
      }
    },
    {
      "cell_type": "code",
      "source": [
        "#contoh jika start dan stop di definisikan \n",
        "x = range(1, 10)\n",
        "for n in x: \n",
        "  print (n)"
      ],
      "metadata": {
        "id": "2oiYkcWw9BrI"
      },
      "execution_count": null,
      "outputs": []
    },
    {
      "cell_type": "code",
      "source": [
        "#contoh jika start stop dan step di definisikan \n",
        "x = range(3, 20, 2) #(mulai dari angka 3, sampai angka 20, dengan jarak 2 langkah atau selisih 2)\n",
        "for n in x: \n",
        "  print (n)"
      ],
      "metadata": {
        "id": "4s96-zzw9NEy"
      },
      "execution_count": null,
      "outputs": []
    }
  ]
}