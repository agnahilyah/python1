{
  "nbformat": 4,
  "nbformat_minor": 0,
  "metadata": {
    "colab": {
      "provenance": []
    },
    "kernelspec": {
      "name": "python3",
      "display_name": "Python 3"
    },
    "language_info": {
      "name": "python"
    }
  },
  "cells": [
    {
      "cell_type": "code",
      "execution_count": 2,
      "metadata": {
        "colab": {
          "base_uri": "https://localhost:8080/"
        },
        "id": "R6DzWnrW7qUV",
        "outputId": "3205e1b1-846b-4cd3-9676-79db91372b1c"
      },
      "outputs": [
        {
          "output_type": "stream",
          "name": "stdout",
          "text": [
            "25\n",
            "Hello World\n",
            "24.75\n",
            "<class 'int'>\n",
            "<class 'str'>\n",
            "<class 'float'>\n"
          ]
        }
      ],
      "source": [
        "#ini contoh variabel dengan tipe data integer\n",
        "x = 25\n",
        "\n",
        "#ini contoh variabel dengan tipe data string\n",
        "y='Hello World'\n",
        "\n",
        "#ini contoh variabel dengan tipe data float\n",
        "z= 24.75\n",
        "\n",
        "print (x); print (y); print (z) #perintah untuk memunculkan variabel yang sudah terdefinisi\n",
        "\n",
        "print (type(x)); print(type(y)); print(type(z)) #perintah untuk menampilkan tipe data dari suatu variabel"
      ]
    },
    {
      "cell_type": "code",
      "source": [
        "#menyimpan 2 variabel menggunakan delimiter koma\n",
        "a,b = 30,\"hello world\"\n",
        "\n",
        "print (a,b) ##perintah untuk menampilkan variabel yang sudah terdefinisi dengan delimiter koma\n",
        "print (a) \n",
        "print (b)\n",
        "print(type(a), type(b))"
      ],
      "metadata": {
        "colab": {
          "base_uri": "https://localhost:8080/"
        },
        "id": "1eIX2WZ_7-yg",
        "outputId": "aab09a11-3971-45a9-8e77-eab12330b20b"
      },
      "execution_count": 1,
      "outputs": [
        {
          "output_type": "stream",
          "name": "stdout",
          "text": [
            "30 hello world\n",
            "30\n",
            "hello world\n",
            "<class 'int'> <class 'str'>\n"
          ]
        }
      ]
    },
    {
      "cell_type": "code",
      "source": [
        "#variabel x pertama di definisikan \n",
        "x = 10\n",
        "\n",
        "#variabel x didefinisikan dengan nilai lain \n",
        "x  = \"hello world\"\n",
        "\n",
        "print(x) #hasil yang muncul merupakan nilai terakhir yang di definisikan \n",
        "print(type(x))"
      ],
      "metadata": {
        "colab": {
          "base_uri": "https://localhost:8080/"
        },
        "id": "A-S7qOEm8U46",
        "outputId": "4b77b836-e41f-4e7e-f05e-4f1ca00862ca"
      },
      "execution_count": 5,
      "outputs": [
        {
          "output_type": "stream",
          "name": "stdout",
          "text": [
            "hello world\n",
            "<class 'str'>\n"
          ]
        }
      ]
    },
    {
      "cell_type": "code",
      "source": [
        "#contoh implementasi case sensitive\n",
        "\n",
        "a= 1 #variabel huruf kecil \n",
        "A= \"strawberry mangga apel\" #variabel huruf kapital\n",
        "\n",
        "print (a) #nilai yang muncul adalah yang tersimpan di variabel dengan huruf kecil a\n",
        "print (A) #nilai yang muncul adalah yang tersimpan di variabel dengan huruf kapital A"
      ],
      "metadata": {
        "colab": {
          "base_uri": "https://localhost:8080/"
        },
        "id": "-M3WxoMW8hCO",
        "outputId": "ac0f4213-ad5f-4925-94a5-8c949297b678"
      },
      "execution_count": 6,
      "outputs": [
        {
          "output_type": "stream",
          "name": "stdout",
          "text": [
            "1\n",
            "strawberry mangga apel\n"
          ]
        }
      ]
    },
    {
      "cell_type": "code",
      "source": [
        "#menyimpan beberapa variabel dengan nilai yang sama\n",
        "i=j=k=\"Testing\"\n",
        "\n",
        "print (j) #outputnya Testing\n",
        "print (k) #outputnya Testing \n",
        "print (type(i)) #outputnya tipe data untuk \"Testing\""
      ],
      "metadata": {
        "colab": {
          "base_uri": "https://localhost:8080/"
        },
        "id": "N936YSke8qn0",
        "outputId": "163883f9-74a0-447b-e6ce-fd2359ed6af0"
      },
      "execution_count": 9,
      "outputs": [
        {
          "output_type": "stream",
          "name": "stdout",
          "text": [
            "Testing\n",
            "Testing\n",
            "<class 'str'>\n"
          ]
        }
      ]
    },
    {
      "cell_type": "code",
      "source": [
        "#membaca variabel per karakter\n",
        "\n",
        "a,b,c,d,e,f= \"python\" #kalo pake tanda koma(,) hasilnya membaca per karakter, hanya berlaku untuk string \n",
        "print (a); print (f)"
      ],
      "metadata": {
        "colab": {
          "base_uri": "https://localhost:8080/"
        },
        "id": "Dr3Rdggk8voP",
        "outputId": "b141c8a3-46d5-43a0-86a3-b9a791e04187"
      },
      "execution_count": 8,
      "outputs": [
        {
          "output_type": "stream",
          "name": "stdout",
          "text": [
            "p\n",
            "n\n"
          ]
        }
      ]
    },
    {
      "cell_type": "code",
      "source": [
        "#casting, untuk melakukan konversi tipe data\n",
        "\n",
        "x = str(3)   # x akan menghasilkan output '3'\n",
        "y = int(3)   # y akan menghasilkan output 3\n",
        "z = float(3) # z akan menghasilkan output 3.0\n",
        "\n",
        "print(x); print(y); print(z)\n",
        "print(type(x));print(type(y));print(type(z))"
      ],
      "metadata": {
        "colab": {
          "base_uri": "https://localhost:8080/"
        },
        "id": "z98L5wZt8ylo",
        "outputId": "c274383d-d49a-483d-8dad-61ec0c3a6c7d"
      },
      "execution_count": 7,
      "outputs": [
        {
          "output_type": "stream",
          "name": "stdout",
          "text": [
            "3\n",
            "3\n",
            "3.0\n",
            "<class 'str'>\n",
            "<class 'int'>\n",
            "<class 'float'>\n"
          ]
        }
      ]
    }
  ]
}