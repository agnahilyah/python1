{
  "nbformat": 4,
  "nbformat_minor": 0,
  "metadata": {
    "colab": {
      "provenance": []
    },
    "kernelspec": {
      "name": "python3",
      "display_name": "Python 3"
    },
    "language_info": {
      "name": "python"
    }
  },
  "cells": [
    {
      "cell_type": "code",
      "execution_count": null,
      "metadata": {
        "id": "vtJ_ALXW85iG"
      },
      "outputs": [],
      "source": [
        "#integer, bilangan angka (bulat), negatif atau positif tanpa koma\n",
        "a = 20 \n",
        "\n",
        "#float, bilangan angka, negatif atau positif, dengan koma \n",
        "b = 75.95\n",
        "\n",
        "#complex, angka imajiner dilambangkan dengan huruf j\n",
        "c = 1j\n",
        "\n",
        "print(a,b,c)\n",
        "print(type(a),type(b),type(c))"
      ]
    },
    {
      "cell_type": "code",
      "source": [
        "#contoh casting numeric type \n",
        "# (mengubah tipe data)\n",
        "\n",
        "x = 20 #int\n",
        "y = 75.95 #float\n",
        "z = 1j #complex\n",
        "\n",
        "#convert from int to float: \n",
        "a = float(x)\n",
        "\n",
        "#convert from float ti int: \n",
        "b = int(y)\n",
        "\n",
        "#convert from int to complex: \n",
        "c = complex(x)\n",
        "\n",
        "#catatan: complex ke integer tidak bisa\n",
        "\n",
        "print(a,b,c)\n",
        "print(type(a),type(b),type(c))"
      ],
      "metadata": {
        "id": "n20Pv7aU9ZDZ"
      },
      "execution_count": null,
      "outputs": []
    },
    {
      "cell_type": "code",
      "source": [
        "#operasi matematika basic\n",
        "\n",
        "x = 20; y = 6\n",
        "\n",
        "print (x+y) #penjumlahan \n",
        "print (x-y) #pengurangan\n",
        "print (x*y) #perkalian\n",
        "print (x**y) #eksponensial atau pangkat\n",
        "print (x/y) #pembagian hasil bilangan real\n",
        "print (x%y) #modulus atau sisa bagi\n",
        "print (x//y) #floor atau pembulatan ke bawah, hasilnya nilai dari integer awal \n"
      ],
      "metadata": {
        "id": "xw0T--Lp9dYf"
      },
      "execution_count": null,
      "outputs": []
    },
    {
      "cell_type": "markdown",
      "source": [
        "***STRING***"
      ],
      "metadata": {
        "id": "uGuQRA649nVP"
      }
    },
    {
      "cell_type": "code",
      "source": [
        "#string dalam python, ditandai dengan kutip 2 (\" \")\n",
        "a = \"Hello\"\n",
        "\n",
        "#atau kutio 1 (' ')\n",
        "b = 'Hello'\n",
        "\n",
        "print (a)\n",
        "print (b)\n",
        "print(type(a),type(b))"
      ],
      "metadata": {
        "id": "j2XX8Eig9gVg"
      },
      "execution_count": null,
      "outputs": []
    },
    {
      "cell_type": "code",
      "source": [
        "#membuat paragraf\n",
        "paragraf = '''Lorem ipsum dolor sit amet,\n",
        "consectetur adipiscing elit,\n",
        "sed do eiusmod tempor incididunt\n",
        "ut labore et dolore magna aliqua.'''  #bisa menggunakan triple single/double quote\n",
        "\n",
        "print(paragraf)"
      ],
      "metadata": {
        "id": "NeR6S6jm9u9Q"
      },
      "execution_count": null,
      "outputs": []
    },
    {
      "cell_type": "code",
      "source": [
        "#beberapa case di tipe data string \n",
        "nama = \"sample\" #data string bisa menggunakan petik tugggal (') atai petik ganda (\"\")\n",
        "\n",
        "print(type(nama)) #melihat tipe data\n",
        "print(len(nama)) #menghitung panjang karakter \n",
        "print(nama) #melihat value dari variabek nama \n",
        "print(nama[3]) #membaca indeks ke 3, akan tetapi harus diingat kalau bahasa python membaca dari indeks 0\n",
        "print(nama[1:3]) #tanda titik dua (:) disini mendefinisikan range \n",
        "print(nama[-2]) #tanda negatif (-) disini mengartikan python membaca dari belakang\n",
        "print(nama+\"coba\") #penjumlahan kata\n",
        "print(nama+\" \"+\"coba\") #penjumlahan kata \n",
        "print(nama*3) #perkalian kata\n"
      ],
      "metadata": {
        "id": "E61ZF9hu90Kl"
      },
      "execution_count": null,
      "outputs": []
    },
    {
      "cell_type": "code",
      "source": [
        "data = \"latihan python\"\n",
        "nilai = \"35\"\n",
        "isi = \" \"\n",
        "nama = \"Someone\"\n",
        "\n",
        "print(data) #memanggil value variabel data\n",
        "print(len(nama)) #menghitung panjang karakter dari variabel nama\n",
        "print(type(nilai)) #melhat tipe data dari variabel nilai\n",
        "print(data.upper()) #membuat karakter menjadi kapital semua\n",
        "print(data.capitalize()) #membuat karakter awal (hanya yang awal) menjadi kapital\n",
        "print(data.isspace()) #untuk memerikasa karakter membuat hanya spasi \n",
        "print(nilai.isnumeric()) #untuk memeriksa karakter merupakan hanya numerik \n",
        "print(nama.swapcase()) #merubah karakter lower menjadi upper dan berlaku sebaliknya \n",
        "print(nilai*3) #karena nilai dibaca sebagai string maka python tidak memuat hasil perkalian\n",
        "\n",
        "print(\"python\" in data) #memeriksa apakah string yang dicari ada di variabel data \n",
        "print(\"sql\" not in data) #memeriksa apakah string yang dicari ada di variabel data"
      ],
      "metadata": {
        "id": "SDj6O3FB951O"
      },
      "execution_count": null,
      "outputs": []
    },
    {
      "cell_type": "code",
      "source": [
        "isi = \"Training Python\"\n",
        "print(isi.find(\"n\")) #memeriksa apakah ada karakter yang ingin dicari termuat dalam variabel\n",
        "print(isi.find(\"n\",7)) #memeriksa karakter dari karakter ke 8 "
      ],
      "metadata": {
        "id": "bEEdnKxh97hP"
      },
      "execution_count": null,
      "outputs": []
    },
    {
      "cell_type": "code",
      "source": [
        "nama = \"zayn malik\"\n",
        "\n",
        "print(nama)\n",
        "print(nama.upper())\n",
        "print(nama.capitalize())\n",
        "print(nama.title()) #membuat karakter seperti aturan teks dalam membuat judul"
      ],
      "metadata": {
        "id": "sxrdZ_FP-Emi"
      },
      "execution_count": null,
      "outputs": []
    },
    {
      "cell_type": "code",
      "source": [
        "nomor1 = \"789\"\n",
        "nomor2 = \"35\"\n",
        "#untuk membuat karakter menjadi 7 digit, jika belum 7 maka ditambahkan angka 0 diawal karakter\n",
        "print(nomor1.zfill(7)) "
      ],
      "metadata": {
        "id": "woyd7rht-W_a"
      },
      "execution_count": null,
      "outputs": []
    },
    {
      "cell_type": "code",
      "source": [
        "judul = \"training\"\n",
        "judul2 = \"latihan\"\n",
        "print(judul.center(10,\"-\")) #membuat karakter menjadi 10 digit dan dibuat karakter tengah, untuk memenuhi kekurangan karakter\n",
        "print(judul2.center(10,\"-\")) #tanda strip (-) jadi lebih banyak di akhir karakter\n",
        "\n",
        "print (judul.replace('a','x'))\n",
        "      "
      ],
      "metadata": {
        "id": "QPFJLXGd-X9A"
      },
      "execution_count": null,
      "outputs": []
    },
    {
      "cell_type": "code",
      "source": [
        "import string \n",
        "\n",
        "kode = \"aeios\"\n",
        "kode2 = \"43105\"\n",
        "kata = \"Latihan Python\"\n",
        "\n",
        "ubah = kata.maketrans(kode,kode2)\n",
        "print(kata)\n",
        "print(ubah) #melihat aturan perubahan karakter menjadi numerik, dan untuk memeriksa berapa banyak karakter yang di ubah\n",
        "print(kata.translate(ubah)) #maketrans untuk mengubah beberapa karakter menjadi angka dengan aturan yang sudah ada\n"
      ],
      "metadata": {
        "id": "73RDzrA9-auY"
      },
      "execution_count": null,
      "outputs": []
    },
    {
      "cell_type": "code",
      "source": [
        "umur = 41 \n",
        "teks = \"Nama saya Budi, Umur Saya {}\"\n",
        "print (teks.format (umur)) #methode format string \n",
        "\n",
        "usia = 20 \n",
        "print (f\"Nama saya Agna, usia saya {usia}\")"
      ],
      "metadata": {
        "id": "hxMLLhrj-eI5"
      },
      "execution_count": null,
      "outputs": []
    },
    {
      "cell_type": "code",
      "source": [
        "qty = 3\n",
        "produk_no = 567\n",
        "harga = 100000\n",
        "order = \"Saya ingin {} buah dari produk {} yang seharga {} rupiah.\" #ngisi bracket sesuai urutan variabel pada method format ()\n",
        "print(order.format(qty, produk_no, harga))\n",
        "\n",
        "qty=3\n",
        "produk_no=567\n",
        "harga = 100000\n",
        "order =f\"Saya ingin {qty} buah dari produk {produk_no} yang seharga {harga} rupiah\"#ngisi bracket sesuai urutan variabel pada method format()\n",
        "print(order)"
      ],
      "metadata": {
        "id": "02mQg5s2-gzW"
      },
      "execution_count": null,
      "outputs": []
    },
    {
      "cell_type": "markdown",
      "source": [
        "***Boolean***"
      ],
      "metadata": {
        "id": "NtcAWTUD-qJs"
      }
    },
    {
      "cell_type": "code",
      "source": [
        "print (10 > 9) #bernilai benar\n",
        "print (10 == 9) #bernilai salah \n",
        "print (10 < 9) # bernilai salah "
      ],
      "metadata": {
        "id": "AGm7wVwb-phK"
      },
      "execution_count": null,
      "outputs": []
    },
    {
      "cell_type": "code",
      "source": [
        "a = 10\n",
        "b = 5\n",
        "\n",
        "if b > a:\n",
        "  print (\"Benar bahwa b lebih besar dari a\")\n",
        "else: \n",
        "  print (\"salah, b lebih kecil dari a\")"
      ],
      "metadata": {
        "id": "iQZPOUY_-4Du"
      },
      "execution_count": null,
      "outputs": []
    },
    {
      "cell_type": "code",
      "source": [
        "#kebanyakan boolean itu akan mengeluarkan output true \n",
        "print (bool(\"Hello\"))\n",
        "print (bool(15))\n",
        "print (bool([\"apel\", \"ceri\", \"pisang\"]))"
      ],
      "metadata": {
        "id": "JvvqOO0B-1lK"
      },
      "execution_count": null,
      "outputs": []
    },
    {
      "cell_type": "code",
      "source": [
        "#output yang akan false dari boolean\n",
        "print(bool(False))\n",
        "print(bool(None))\n",
        "print(bool(0))\n",
        "print(bool(\"\"))\n",
        "print(bool(()))\n",
        "print(bool([]))\n",
        "print(bool({}))"
      ],
      "metadata": {
        "id": "RsFPZ9Ce--GU"
      },
      "execution_count": null,
      "outputs": []
    },
    {
      "cell_type": "markdown",
      "source": [
        "***None Type***"
      ],
      "metadata": {
        "id": "n3TK5IWu_GaK"
      }
    },
    {
      "cell_type": "code",
      "source": [
        "a = None\n",
        "print(type(a))"
      ],
      "metadata": {
        "id": "7rHMDH8a_A7W"
      },
      "execution_count": null,
      "outputs": []
    },
    {
      "cell_type": "code",
      "source": [
        "x = None\n",
        "\n",
        "if x is True: \n",
        "  print(\"Do you think None is True?\")\n",
        "elif x is False: \n",
        "  print (\"Do you think None is False?\")\n",
        "else: \n",
        "  print (\"None is not True, or False, None is just None...\")"
      ],
      "metadata": {
        "id": "KRb5iMDL_MUx"
      },
      "execution_count": null,
      "outputs": []
    }
  ]
}