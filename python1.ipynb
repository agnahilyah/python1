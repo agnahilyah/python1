{
  "nbformat": 4,
  "nbformat_minor": 0,
  "metadata": {
    "colab": {
      "provenance": [],
      "authorship_tag": "ABX9TyMFXoP/2CE5qVEkOkGzZutV",
      "include_colab_link": true
    },
    "kernelspec": {
      "name": "python3",
      "display_name": "Python 3"
    },
    "language_info": {
      "name": "python"
    }
  },
  "cells": [
    {
      "cell_type": "markdown",
      "metadata": {
        "id": "view-in-github",
        "colab_type": "text"
      },
      "source": [
        "<a href=\"https://colab.research.google.com/github/agnahilyah/python1/blob/main/python1.ipynb\" target=\"_parent\"><img src=\"https://colab.research.google.com/assets/colab-badge.svg\" alt=\"Open In Colab\"/></a>"
      ]
    },
    {
      "cell_type": "code",
      "execution_count": null,
      "metadata": {
        "colab": {
          "base_uri": "https://localhost:8080/"
        },
        "id": "VdIl6EBf0UfM",
        "outputId": "192ccc75-2961-491f-eaae-cc42c4d395b6"
      },
      "outputs": [
        {
          "output_type": "stream",
          "name": "stdout",
          "text": [
            "total penjumlahan dari bilangan ganjil kuadrat adalah 166650\n",
            "rata rata dari total tersebut adalah 3333.0\n"
          ]
        }
      ],
      "source": [
        "#menghitung jumlah dari bilangan ganjil kuadrat dan rata-rata nya\n",
        "\n",
        "bil_ganjil = [x for x in range(1,100+1) if x %2!=0]\n",
        "ganjil_pangkat2 = [x**2 for x in bil_ganjil]\n",
        "total = sum(ganjil_pangkat2)\n",
        "print(\"total penjumlahan dari bilangan ganjil kuadrat adalah\", total)\n",
        "avg = total/len(ganjil_pangkat2)\n",
        "print(\"rata rata dari total tersebut adalah\", avg)\n"
      ]
    },
    {
      "cell_type": "code",
      "source": [
        "#bilangan ganjil dan genap\n",
        "\n",
        "a = int(input(\"masukan bilangan1 = \"))\n",
        "b = int(input(\"masukan bilangan2 = \"))\n",
        "\n",
        "if a % 2 == 0 and b % 2 == 0 :\n",
        "  print(\"a dan b adalah bilangan genap\")\n",
        "elif a % 2 == 0  and b % 2 != 0 :\n",
        "  print(\"a merupakan bilangan genap dan b merupakan bilangan ganjil\")\n",
        "elif a % 2 != 0  and b % 2 == 0 :\n",
        "  print(\"a merupakan bilangan ganjil dan b merupakan bilangan genap\")\n",
        "else: \n",
        "  print(\"a dan b adalah bilangan ganjil\")"
      ],
      "metadata": {
        "colab": {
          "base_uri": "https://localhost:8080/"
        },
        "id": "WD_KwNTK0_j2",
        "outputId": "d1af2f2e-ccb0-409c-bd9a-0d843097ee0d"
      },
      "execution_count": null,
      "outputs": [
        {
          "output_type": "stream",
          "name": "stdout",
          "text": [
            "masukan bilangan1 = 3\n",
            "masukan bilangan2 = 19\n",
            "a dan b adalah bilangan ganjil\n"
          ]
        }
      ]
    },
    {
      "cell_type": "code",
      "source": [
        "while True:\n",
        "  guess = str(input(\"planet keenam dalam sistem tata surya adalah \"))\n",
        "\n",
        "  if guess == (\"saturnus\"):\n",
        "    print (\"jawaban anda benar\")\n",
        "    break\n",
        "  else: \n",
        "    print (\"jawaban anda salah silakan jawab lagi\")"
      ],
      "metadata": {
        "colab": {
          "base_uri": "https://localhost:8080/"
        },
        "id": "rbMzWCNz6jDB",
        "outputId": "1274b316-96fc-4db0-851b-423edcdbef29"
      },
      "execution_count": null,
      "outputs": [
        {
          "output_type": "stream",
          "name": "stdout",
          "text": [
            "planet keenam dalam sistem tata surya adalah neptunus\n",
            "jawaban anda salah silakan jawab lagi\n",
            "planet keenam dalam sistem tata surya adalah bumi\n",
            "jawaban anda salah silakan jawab lagi\n",
            "planet keenam dalam sistem tata surya adalah venus\n",
            "jawaban anda salah silakan jawab lagi\n",
            "planet keenam dalam sistem tata surya adalah saturnus\n",
            "jawaban anda benar\n"
          ]
        }
      ]
    },
    {
      "cell_type": "code",
      "source": [
        "while True: \n",
        "  hewan = str(input(\"hewan berkaki empat: \"))\n",
        "  panjang = len(hewan) >=5\n",
        "  c_n = \"n\" in hewan \n",
        "  c_g = \"g\" in hewan\n",
        "  c_k = \"k\" in hewan\n",
        "  if panjang !=True: \n",
        "    print(\"hint: lebih dari 5 huruf\")\n",
        "  elif c_n !=True: \n",
        "    print(\"hint: terdapat huruf n\")\n",
        "  elif c_g !=True:\n",
        "    print(\"hint: terdapat huruf g\")\n",
        "  elif c_k !=True: \n",
        "    print(\"hint: terdapat huruf k\")\n",
        "  else: \n",
        "    print(\"jawaban anda benar\")\n",
        "    break\n"
      ],
      "metadata": {
        "colab": {
          "base_uri": "https://localhost:8080/"
        },
        "id": "xT9y9npV9yPp",
        "outputId": "5428649c-4569-4bb5-d53f-e114cf4d7c84"
      },
      "execution_count": 1,
      "outputs": [
        {
          "output_type": "stream",
          "name": "stdout",
          "text": [
            "hewan berkaki empat: sapi\n",
            "hint: lebih dari 5 huruf\n",
            "hewan berkaki empat: domba\n",
            "hint: terdapat huruf n\n",
            "hewan berkaki empat: macan\n",
            "hint: terdapat huruf g\n",
            "hewan berkaki empat: musang\n",
            "hint: terdapat huruf k\n",
            "hewan berkaki empat: kucing\n",
            "jawaban anda benar\n"
          ]
        }
      ]
    },
    {
      "cell_type": "code",
      "source": [
        "#membaca karakter depan dan karakter akhir yang sama\n",
        "count=0\n",
        "planet=['saturnus', 'uranus', 'neptunus', 'venus']\n",
        "for i in range(len(planet)):\n",
        "  if(planet[i][0] == planet[i][-1]):\n",
        "    count += 1\n",
        "print('jumlah string yg sama =',count)\n"
      ],
      "metadata": {
        "colab": {
          "base_uri": "https://localhost:8080/"
        },
        "id": "nzKBiMwDCtp6",
        "outputId": "338b75e3-f0a5-4af9-94cb-a1e832587582"
      },
      "execution_count": null,
      "outputs": [
        {
          "output_type": "stream",
          "name": "stdout",
          "text": [
            "jumlah string yg sama = 1\n"
          ]
        }
      ]
    },
    {
      "cell_type": "code",
      "source": [
        "#kata palindrom\n",
        "count = 0 \n",
        "palindrom = ['katak', 'kasur', 'ini' , 'saya', 'radar']\n",
        "for k in range(len(palindrom)):\n",
        "  if palindrom[k] == palindrom [k][::-1]:\n",
        "    count += 1\n",
        "print ('jumlah palindrom adalah = ', count)"
      ],
      "metadata": {
        "colab": {
          "base_uri": "https://localhost:8080/"
        },
        "id": "NVUSUpG_HZ_q",
        "outputId": "be6b3fb6-840d-4e07-d78e-66df360c9588"
      },
      "execution_count": null,
      "outputs": [
        {
          "output_type": "stream",
          "name": "stdout",
          "text": [
            "jumlah palindrom adalah =  3\n"
          ]
        }
      ]
    },
    {
      "cell_type": "code",
      "source": [
        "def hitung(s):\n",
        "    d={'upper':0,'lower':0}\n",
        "    for x in s:\n",
        "        if x.isupper():\n",
        "            d['upper']+=1\n",
        "        elif x.islower():\n",
        "            d['lower']+=1\n",
        "    print('jumlah huruf kapital:',d['upper'])\n",
        "    print('jumlah huruf kecil: ',d['lower'])\n",
        "\n",
        "hitung(input('input Kalimat: '))\n",
        "\n",
        "\n"
      ],
      "metadata": {
        "colab": {
          "base_uri": "https://localhost:8080/"
        },
        "id": "kOB6YCBKNj9_",
        "outputId": "6216fd66-ab7a-4a06-bdfa-705aff3ecf17"
      },
      "execution_count": null,
      "outputs": [
        {
          "output_type": "stream",
          "name": "stdout",
          "text": [
            "input Kalimat: Halo SelaMaaT pagI\n",
            "jumlah huruf kapital: 5\n",
            "jumlah huruf kecil:  11\n"
          ]
        }
      ]
    },
    {
      "cell_type": "code",
      "source": [
        "#kata ganjil\n",
        "input_string = input(\"Masukkan string, pisahkan dengan spasi: \")\n",
        "input_list = input_string.split()\n",
        "print(\"List string:\", input_list)\n",
        "for a in input_list :\n",
        "    if len(a)%2 != 0:\n",
        "        print(a,end=\" \")\n",
        "\n"
      ],
      "metadata": {
        "colab": {
          "base_uri": "https://localhost:8080/"
        },
        "id": "fujU7hYqOu88",
        "outputId": "ffaf041f-79c9-46e3-cde5-4e3e334d42fd"
      },
      "execution_count": 2,
      "outputs": [
        {
          "output_type": "stream",
          "name": "stdout",
          "text": [
            "Masukkan string, pisahkan dengan spasi: wortel brokoli jamur\n",
            "List string: ['wortel', 'brokoli', 'jamur']\n",
            "brokoli jamur "
          ]
        }
      ]
    },
    {
      "cell_type": "code",
      "source": [
        "#kata genap\n",
        "input_string = input(\"Masukkan string, pisahkan dengan spasi: \")\n",
        "input_list = input_string.split()\n",
        "print(\"List string:\", input_list)\n",
        "for a in input_list :\n",
        "    if len(a)%2 == 0:\n",
        "        print(a,end=\" \")\n"
      ],
      "metadata": {
        "colab": {
          "base_uri": "https://localhost:8080/"
        },
        "id": "YXUyEQO0RRtf",
        "outputId": "c835618c-4c46-49ed-bd93-61897c8146d2"
      },
      "execution_count": 3,
      "outputs": [
        {
          "output_type": "stream",
          "name": "stdout",
          "text": [
            "Masukkan string, pisahkan dengan spasi: wortel brokoli jamur\n",
            "List string: ['wortel', 'brokoli', 'jamur']\n",
            "wortel "
          ]
        }
      ]
    }
  ]
}